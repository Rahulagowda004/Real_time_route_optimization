{
 "cells": [
  {
   "cell_type": "code",
   "execution_count": 1,
   "metadata": {},
   "outputs": [
    {
     "data": {
      "text/plain": [
       "'r:\\\\Real_time_route_optimization'"
      ]
     },
     "execution_count": 1,
     "metadata": {},
     "output_type": "execute_result"
    }
   ],
   "source": [
    "import os \n",
    "os.chdir(\"../\")\n",
    "%pwd"
   ]
  },
  {
   "cell_type": "code",
   "execution_count": 2,
   "metadata": {},
   "outputs": [],
   "source": [
    "import os\n",
    "import sys\n",
    "import pandas as pd\n",
    "import pickle\n",
    "from sklearn.model_selection import train_test_split\n",
    "from dataclasses import dataclass\n",
    "\n",
    "from catboost import CatBoostRegressor\n",
    "from sklearn.ensemble import (\n",
    "    AdaBoostRegressor,\n",
    "    GradientBoostingRegressor,\n",
    "    RandomForestRegressor,\n",
    ")\n",
    "from sklearn.linear_model import LinearRegression\n",
    "from sklearn.metrics import r2_score\n",
    "from sklearn.neighbors import KNeighborsRegressor\n",
    "from sklearn.tree import DecisionTreeRegressor\n",
    "from xgboost import XGBRegressor\n",
    "from sklearn.model_selection import GridSearchCV"
   ]
  },
  {
   "cell_type": "code",
   "execution_count": 3,
   "metadata": {},
   "outputs": [],
   "source": [
    "def save_object(file_path, obj):\n",
    "    dir_path = os.path.dirname(file_path)\n",
    "\n",
    "    os.makedirs(dir_path, exist_ok=True)\n",
    "\n",
    "    with open(file_path, \"wb\") as file_obj:\n",
    "        pickle.dump(obj, file_obj)"
   ]
  },
  {
   "cell_type": "code",
   "execution_count": 4,
   "metadata": {},
   "outputs": [],
   "source": [
    "def evaluate_models(X_train, y_train,X_test,y_test,models,param):\n",
    "        report = {}\n",
    "\n",
    "        for i in range(len(list(models))):\n",
    "            model = list(models.values())[i]\n",
    "            para=param[list(models.keys())[i]]\n",
    "\n",
    "            gs = GridSearchCV(model,para,cv=3)\n",
    "            gs.fit(X_train,y_train)\n",
    "\n",
    "            model.set_params(**gs.best_params_)\n",
    "            model.fit(X_train,y_train)\n",
    "\n",
    "            #model.fit(X_train, y_train)  # Train model\n",
    "\n",
    "            y_train_pred = model.predict(X_train)\n",
    "\n",
    "            y_test_pred = model.predict(X_test)\n",
    "\n",
    "            train_model_score = r2_score(y_train, y_train_pred)\n",
    "\n",
    "            test_model_score = r2_score(y_test, y_test_pred)\n",
    "\n",
    "            report[list(models.keys())[i]] = test_model_score\n",
    "\n",
    "        return report"
   ]
  },
  {
   "cell_type": "code",
   "execution_count": 6,
   "metadata": {},
   "outputs": [],
   "source": [
    "train_arr = pd.read_csv(\"train_arr.csv\")\n",
    "test_arr = pd.read_csv(\"test_arr.csv\")"
   ]
  },
  {
   "cell_type": "code",
   "execution_count": null,
   "metadata": {},
   "outputs": [],
   "source": [
    "train_array = train_arr.values\n",
    "test_array = test_arr.values\n",
    "\n",
    "X_train,y_train,X_test,y_test=(\n",
    "                train_array[:,:-1],\n",
    "                train_array[:,-1],\n",
    "                test_array[:,:-1],\n",
    "                test_array[:,-1]\n",
    "            )\n",
    "models = {\n",
    "    \"Random Forest\": RandomForestRegressor(),\n",
    "    \"Decision Tree\": DecisionTreeRegressor(),\n",
    "    \"Gradient Boosting\": GradientBoostingRegressor(),\n",
    "    \"Linear Regression\": LinearRegression(),\n",
    "    \"XGBRegressor\": XGBRegressor(),\n",
    "    \"AdaBoost Regressor\": AdaBoostRegressor(),\n",
    "}\n",
    "params={\n",
    "    \"Decision Tree\": {\n",
    "        'criterion':['squared_error', 'friedman_mse', 'absolute_error', 'poisson'],\n",
    "        # 'splitter':['best','random'],\n",
    "        # 'max_features':['sqrt','log2'],\n",
    "    },\n",
    "    \"Random Forest\":{\n",
    "        # 'criterion':['squared_error', 'friedman_mse', 'absolute_error', 'poisson'],\n",
    "        \n",
    "        # 'max_features':['sqrt','log2',None],\n",
    "        'n_estimators': [8,16,32,64,128,256]\n",
    "    },\n",
    "    \"Gradient Boosting\":{\n",
    "        # 'loss':['squared_error', 'huber', 'absolute_error', 'quantile'],\n",
    "        'learning_rate':[.1,.01,.05,.001],\n",
    "        'subsample':[0.6,0.7,0.75,0.8,0.85,0.9],\n",
    "        # 'criterion':['squared_error', 'friedman_mse'],\n",
    "        # 'max_features':['auto','sqrt','log2'],\n",
    "        'n_estimators': [8,16,32,64,128,256]\n",
    "    },\n",
    "    \"Linear Regression\":{},\n",
    "    \"XGBRegressor\":{\n",
    "        'learning_rate':[.1,.01,.05,.001],\n",
    "        'n_estimators': [8,16,32,64,128,256]\n",
    "    },\n",
    "    \"CatBoosting Regressor\":{\n",
    "        'depth': [6,8,10],\n",
    "        'learning_rate': [0.01, 0.05, 0.1],\n",
    "        'iterations': [30, 50, 100]\n",
    "    },\n",
    "    \"AdaBoost Regressor\":{\n",
    "        'learning_rate':[.1,.01,0.5,.001],\n",
    "        # 'loss':['linear','square','exponential'],\n",
    "        'n_estimators': [8,16,32,64,128,256]\n",
    "    }\n",
    "    \n",
    "}\n",
    "\n",
    "model_report:dict=evaluate_models(X_train=X_train,y_train=y_train,X_test=X_test,y_test=y_test,\n",
    "                                    models=models,param=params)\n",
    "\n",
    "## To get best model score from dict\n",
    "best_model_score = max(sorted(model_report.values()))\n",
    "\n",
    "## To get best model name from dict\n",
    "\n",
    "best_model_name = list(model_report.keys())[\n",
    "    list(model_report.values()).index(best_model_score)\n",
    "]\n",
    "best_model = models[best_model_name]\n",
    "\n",
    "if best_model_score<0.6:\n",
    "\n",
    "    save_object(\n",
    "        file_path=\"artifacts/best_model.pkl\",\n",
    "        obj=best_model\n",
    "    )\n",
    "\n",
    "predicted=best_model.predict(X_test)\n",
    "\n",
    "r2_square = r2_score(y_test, predicted)"
   ]
  }
 ],
 "metadata": {
  "kernelspec": {
   "display_name": ".venv",
   "language": "python",
   "name": "python3"
  },
  "language_info": {
   "codemirror_mode": {
    "name": "ipython",
    "version": 3
   },
   "file_extension": ".py",
   "mimetype": "text/x-python",
   "name": "python",
   "nbconvert_exporter": "python",
   "pygments_lexer": "ipython3",
   "version": "3.11.11"
  }
 },
 "nbformat": 4,
 "nbformat_minor": 2
}
