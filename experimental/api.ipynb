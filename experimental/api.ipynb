{
 "cells": [
  {
   "cell_type": "code",
   "execution_count": 2,
   "metadata": {},
   "outputs": [
    {
     "data": {
      "text/plain": [
       "True"
      ]
     },
     "execution_count": 2,
     "metadata": {},
     "output_type": "execute_result"
    }
   ],
   "source": [
    "import os\n",
    "from dotenv import load_dotenv\n",
    "\n",
    "load_dotenv()"
   ]
  },
  {
   "cell_type": "code",
   "execution_count": null,
   "metadata": {},
   "outputs": [
    {
     "name": "stdout",
     "output_type": "stream",
     "text": [
      "Traffic Index : 1.1562340966921119\n"
     ]
    }
   ],
   "source": [
    "import requests\n",
    "import pandas as pd\n",
    "\n",
    "def get_traffic_index(api_key, location):\n",
    "    url = \"https://api.tomtom.com/traffic/services/4/flowSegmentData/absolute/10/json\"\n",
    "    params = {\n",
    "        'key': api_key,\n",
    "        'point': location\n",
    "    }\n",
    "    \n",
    "    response = requests.get(url, params=params)\n",
    "    \n",
    "    if response.status_code == 200:\n",
    "        data = response.json()\n",
    "        try:\n",
    "            flow_data = data['flowSegmentData']\n",
    "            current_travel_time = flow_data['currentTravelTime']\n",
    "            free_flow_travel_time = flow_data['freeFlowTravelTime']\n",
    "            \n",
    "            traffic_index = current_travel_time / free_flow_travel_time\n",
    "            return traffic_index\n",
    "        except KeyError:\n",
    "            print(\"KeyError: Required data missing in response.\")\n",
    "            return None\n",
    "    else:\n",
    "        print(f\"Error: {response.status_code}, {response.text}\")\n",
    "        return None\n",
    "\n",
    "api_key = os.getenv(\"TOMTOM_API_KEY\") \n",
    "location = '12.913041,77.683237'\n",
    "\n",
    "traffic_index = get_traffic_index(api_key, location)\n",
    "\n",
    "if traffic_index:\n",
    "    print(f\"Traffic Index : {traffic_index}\")"
   ]
  },
  {
   "cell_type": "code",
   "execution_count": 20,
   "metadata": {},
   "outputs": [
    {
     "name": "stdout",
     "output_type": "stream",
     "text": [
      "Traffic Condition : Medium \n"
     ]
    }
   ],
   "source": [
    "def get_traffic_condition(traffic_index):\n",
    "    if traffic_index <= 1.0:\n",
    "        return \"Low \"\n",
    "    elif 1.1 <= traffic_index <= 2.0:\n",
    "        return \"Medium \"\n",
    "    elif 2.1 <= traffic_index <= 3.0:\n",
    "        return \"High \"\n",
    "    else:  # traffic_index > 3.0\n",
    "        return \"Jam \"\n",
    "    \n",
    "traffic_condition = get_traffic_condition(traffic_index)\n",
    "print(f\"Traffic Condition : {traffic_condition}\")"
   ]
  },
  {
   "cell_type": "code",
   "execution_count": null,
   "metadata": {},
   "outputs": [
    {
     "name": "stdout",
     "output_type": "stream",
     "text": [
      "Error fetching weather data: 401 Client Error: Unauthorized for url: https://api.openweathermap.org/data/2.5/forecast/daily?lat=12.913041&lon=77.683237&cnt=7&appid=e840cdf2a29e8e2e1eb50ff459305bb5&mode=json&units=metric&lang=en\n"
     ]
    }
   ],
   "source": [
    "import requests\n",
    "\n",
    "def get_weather_forecast(lat, lon, api_key, cnt=7, mode='json', units='metric', lang='en'):\n",
    "    url = \"https://api.openweathermap.org/data/2.5/forecast/daily\"\n",
    "    params = {\n",
    "        'lat': lat,\n",
    "        'lon': lon,\n",
    "        'cnt': cnt,\n",
    "        'appid': api_key,\n",
    "        'mode': mode,\n",
    "        'units': units,\n",
    "        'lang': lang\n",
    "    }\n",
    "    \n",
    "    response = requests.get(url, params=params)\n",
    "    \n",
    "    if response.status_code == 200:\n",
    "        return response.json()\n",
    "    else:\n",
    "        response.raise_for_status()\n",
    "\n",
    "# Example usage\n",
    "lat = 12.913041\n",
    "lon = 77.683237\n",
    "api_key = os.getenv(\"OPENWEATHER_API_KEY\")\n",
    "\n",
    "try:\n",
    "    forecast = get_weather_forecast(lat, lon, api_key)\n",
    "    print(forecast)\n",
    "except requests.exceptions.RequestException as e:\n",
    "    print(f\"Error fetching weather data: {e}\")"
   ]
  },
  {
   "cell_type": "code",
   "execution_count": null,
   "metadata": {},
   "outputs": [],
   "source": []
  }
 ],
 "metadata": {
  "kernelspec": {
   "display_name": ".venv",
   "language": "python",
   "name": "python3"
  },
  "language_info": {
   "codemirror_mode": {
    "name": "ipython",
    "version": 3
   },
   "file_extension": ".py",
   "mimetype": "text/x-python",
   "name": "python",
   "nbconvert_exporter": "python",
   "pygments_lexer": "ipython3",
   "version": "3.11.11"
  }
 },
 "nbformat": 4,
 "nbformat_minor": 2
}
