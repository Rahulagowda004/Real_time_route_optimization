{
 "cells": [
  {
   "cell_type": "code",
   "execution_count": null,
   "metadata": {},
   "outputs": [
    {
     "name": "stdout",
     "output_type": "stream",
     "text": [
      "Traffic Index : 1.1562340966921119\n"
     ]
    }
   ],
   "source": [
    "import requests\n",
    "import pandas as pd\n",
    "\n",
    "def get_traffic_index(api_key, location):\n",
    "    url = \"https://api.tomtom.com/traffic/services/4/flowSegmentData/absolute/10/json\"\n",
    "    params = {\n",
    "        'key': api_key,\n",
    "        'point': location\n",
    "    }\n",
    "    \n",
    "    response = requests.get(url, params=params)\n",
    "    \n",
    "    if response.status_code == 200:\n",
    "        data = response.json()\n",
    "        try:\n",
    "            flow_data = data['flowSegmentData']\n",
    "            current_travel_time = flow_data['currentTravelTime']\n",
    "            free_flow_travel_time = flow_data['freeFlowTravelTime']\n",
    "            \n",
    "            traffic_index = current_travel_time / free_flow_travel_time\n",
    "            return traffic_index\n",
    "        except KeyError:\n",
    "            print(\"KeyError: Required data missing in response.\")\n",
    "            return None\n",
    "    else:\n",
    "        print(f\"Error: {response.status_code}, {response.text}\")\n",
    "        return None\n",
    "\n",
    "api_key = \"rGT85lmN9pMxHZFbcsYO3zFpGf2vcCKc\" \n",
    "location = '12.913041,77.683237'\n",
    "\n",
    "traffic_index = get_traffic_index(api_key, location)\n",
    "\n",
    "if traffic_index:\n",
    "    print(f\"Traffic Index : {traffic_index}\")"
   ]
  },
  {
   "cell_type": "code",
   "execution_count": 20,
   "metadata": {},
   "outputs": [
    {
     "name": "stdout",
     "output_type": "stream",
     "text": [
      "Traffic Condition : Medium \n"
     ]
    }
   ],
   "source": [
    "def get_traffic_condition(traffic_index):\n",
    "    if traffic_index <= 1.0:\n",
    "        return \"Low \"\n",
    "    elif 1.1 <= traffic_index <= 2.0:\n",
    "        return \"Medium \"\n",
    "    elif 2.1 <= traffic_index <= 3.0:\n",
    "        return \"High \"\n",
    "    else:  # traffic_index > 3.0\n",
    "        return \"Jam \"\n",
    "    \n",
    "traffic_condition = get_traffic_condition(traffic_index)\n",
    "print(f\"Traffic Condition : {traffic_condition}\")"
   ]
  },
  {
   "cell_type": "code",
   "execution_count": null,
   "metadata": {},
   "outputs": [],
   "source": []
  }
 ],
 "metadata": {
  "kernelspec": {
   "display_name": ".venv",
   "language": "python",
   "name": "python3"
  },
  "language_info": {
   "codemirror_mode": {
    "name": "ipython",
    "version": 3
   },
   "file_extension": ".py",
   "mimetype": "text/x-python",
   "name": "python",
   "nbconvert_exporter": "python",
   "pygments_lexer": "ipython3",
   "version": "3.11.11"
  }
 },
 "nbformat": 4,
 "nbformat_minor": 2
}
