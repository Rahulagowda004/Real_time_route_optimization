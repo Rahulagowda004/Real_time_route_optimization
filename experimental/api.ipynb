{
 "cells": [
  {
   "cell_type": "code",
   "execution_count": 1,
   "metadata": {},
   "outputs": [
    {
     "data": {
      "text/plain": [
       "True"
      ]
     },
     "execution_count": 1,
     "metadata": {},
     "output_type": "execute_result"
    }
   ],
   "source": [
    "import os\n",
    "from dotenv import load_dotenv\n",
    "\n",
    "load_dotenv()"
   ]
  },
  {
   "cell_type": "code",
   "execution_count": null,
   "metadata": {},
   "outputs": [
    {
     "name": "stdout",
     "output_type": "stream",
     "text": [
      "Traffic Index : 1.1562340966921119\n"
     ]
    }
   ],
   "source": [
    "import requests\n",
    "import pandas as pd\n",
    "\n",
    "def get_traffic_index(api_key, location):\n",
    "    url = \"https://api.tomtom.com/traffic/services/4/flowSegmentData/absolute/10/json\"\n",
    "    params = {\n",
    "        'key': api_key,\n",
    "        'point': location\n",
    "    }\n",
    "    \n",
    "    response = requests.get(url, params=params)\n",
    "    \n",
    "    if response.status_code == 200:\n",
    "        data = response.json()\n",
    "        try:\n",
    "            flow_data = data['flowSegmentData']\n",
    "            current_travel_time = flow_data['currentTravelTime']\n",
    "            free_flow_travel_time = flow_data['freeFlowTravelTime']\n",
    "            \n",
    "            traffic_index = current_travel_time / free_flow_travel_time\n",
    "            return traffic_index\n",
    "        except KeyError:\n",
    "            print(\"KeyError: Required data missing in response.\")\n",
    "            return None\n",
    "    else:\n",
    "        print(f\"Error: {response.status_code}, {response.text}\")\n",
    "        return None\n",
    "\n",
    "api_key = os.getenv(\"TOMTOM_API_KEY\") \n",
    "location = '12.913041,77.683237'\n",
    "\n",
    "traffic_index = get_traffic_index(api_key, location)\n",
    "\n",
    "if traffic_index:\n",
    "    print(f\"Traffic Index : {traffic_index}\")"
   ]
  },
  {
   "cell_type": "code",
   "execution_count": 4,
   "metadata": {},
   "outputs": [
    {
     "name": "stdout",
     "output_type": "stream",
     "text": [
      "Traffic Index : 1.1211195928753181\n"
     ]
    }
   ],
   "source": [
    "import requests\n",
    "import pandas as pd\n",
    "\n",
    "def get_traffic_index(api_key, latitude, longitude):\n",
    "    url = \"https://api.tomtom.com/traffic/services/4/flowSegmentData/absolute/10/json\"\n",
    "    params = {\n",
    "        'key': api_key,\n",
    "        'point': f\"{latitude},{longitude}\"\n",
    "    }\n",
    "    \n",
    "    response = requests.get(url, params=params)\n",
    "    \n",
    "    if response.status_code == 200:\n",
    "        data = response.json()\n",
    "        try:\n",
    "            flow_data = data['flowSegmentData']\n",
    "            current_travel_time = flow_data['currentTravelTime']\n",
    "            free_flow_travel_time = flow_data['freeFlowTravelTime']\n",
    "            \n",
    "            traffic_index = current_travel_time / free_flow_travel_time\n",
    "            return traffic_index\n",
    "        except KeyError:\n",
    "            print(\"KeyError: Required data missing in response.\")\n",
    "            return None\n",
    "    else:\n",
    "        print(f\"Error: {response.status_code}, {response.text}\")\n",
    "        return None\n",
    "\n",
    "api_key = os.getenv(\"TOMTOM_API_KEY\") \n",
    "latitude, longitude = 12.913041,77.683237\n",
    "\n",
    "traffic_index = get_traffic_index(api_key, latitude, longitude)\n",
    "\n",
    "if traffic_index:\n",
    "    print(f\"Traffic Index : {traffic_index}\")"
   ]
  },
  {
   "cell_type": "code",
   "execution_count": 20,
   "metadata": {},
   "outputs": [
    {
     "name": "stdout",
     "output_type": "stream",
     "text": [
      "Traffic Condition : Medium \n"
     ]
    }
   ],
   "source": [
    "def get_traffic_condition(traffic_index):\n",
    "    if traffic_index <= 1.0:\n",
    "        return \"Low \"\n",
    "    elif 1.1 <= traffic_index <= 2.0:\n",
    "        return \"Medium \"\n",
    "    elif 2.1 <= traffic_index <= 3.0:\n",
    "        return \"High \"\n",
    "    else:  # traffic_index > 3.0\n",
    "        return \"Jam \"\n",
    "    \n",
    "traffic_condition = get_traffic_condition(traffic_index)\n",
    "print(f\"Traffic Condition : {traffic_condition}\")"
   ]
  },
  {
   "cell_type": "code",
   "execution_count": 2,
   "metadata": {},
   "outputs": [
    {
     "name": "stdout",
     "output_type": "stream",
     "text": [
      "Temperature: 19.56°C, Weather Condition: Sunny\n"
     ]
    }
   ],
   "source": [
    "import requests\n",
    "import os\n",
    "\n",
    "def get_weather(city, api_key):\n",
    "    url = f\"http://api.openweathermap.org/data/2.5/weather?q={city}&appid={api_key}\"\n",
    "\n",
    "    response = requests.get(url)\n",
    "\n",
    "    if response.status_code == 200:\n",
    "        data = response.json()\n",
    "\n",
    "        # Extract temperature in Kelvin and convert to Celsius\n",
    "        temperature_kelvin = data['main']['temp']\n",
    "        temperature_celsius = temperature_kelvin - 273.15\n",
    "\n",
    "        # Map weather condition codes to conditions\n",
    "        weather_mapping = {\n",
    "            \"Clear\": \"Sunny\",\n",
    "            \"Thunderstorm\": \"Stormy\",\n",
    "            \"Dust\": \"Sandstorms\",\n",
    "            \"Haze\": \"Sandstorms\",\n",
    "            \"Clouds\": \"Cloudy\",\n",
    "            \"Mist\": \"Fog\",\n",
    "            \"Fog\": \"Fog\",\n",
    "            \"Smoke\": \"Fog\",\n",
    "            \"Drizzle\": \"Cloudy\",\n",
    "            \"Rain\": \"Cloudy\",\n",
    "            \"Squall\": \"Windy\",\n",
    "            \"Tornado\": \"Windy\",\n",
    "            \"Ash\": \"Sandstorms\",\n",
    "            \"Sand\": \"Sandstorms\",\n",
    "        }\n",
    "\n",
    "        # Extract main weather description\n",
    "        weather_main = data['weather'][0]['main']\n",
    "\n",
    "        # Get mapped condition or fallback to default\n",
    "        weather_condition = weather_mapping.get(weather_main, weather_main)\n",
    "\n",
    "        return temperature_celsius, weather_condition\n",
    "    else:\n",
    "        response.raise_for_status()\n",
    "\n",
    "# Example usage\n",
    "city = \"Bangalore\"\n",
    "api_key = os.getenv(\"OPENWEATHER_API_KEY\")\n",
    "\n",
    "if api_key:\n",
    "    temp, condition = get_weather(city=city, api_key=api_key)\n",
    "    print(f\"Temperature: {temp:.2f}°C, Weather Condition: {condition}\")\n",
    "else:\n",
    "    print(\"Error: API key not found. Set the OPENWEATHER_API_KEY environment variable.\")"
   ]
  },
  {
   "cell_type": "code",
   "execution_count": 40,
   "metadata": {},
   "outputs": [
    {
     "name": "stdout",
     "output_type": "stream",
     "text": [
      "{'coord': {'lon': 77.6033, 'lat': 12.9762}, 'weather': [{'id': 800, 'main': 'Clear', 'description': 'clear sky', 'icon': '01n'}], 'base': 'stations', 'main': {'temp': 293.16, 'feels_like': 292.7, 'temp_min': 292.05, 'temp_max': 293.43, 'pressure': 1014, 'humidity': 57, 'sea_level': 1014, 'grnd_level': 916}, 'visibility': 6000, 'wind': {'speed': 3.6, 'deg': 100}, 'clouds': {'all': 7}, 'dt': 1737909438, 'sys': {'type': 1, 'id': 9205, 'country': 'IN', 'sunrise': 1737854176, 'sunset': 1737895660}, 'timezone': 19800, 'id': 1277333, 'name': 'Bengaluru', 'cod': 200}\n"
     ]
    }
   ],
   "source": [
    "import requests\n",
    "import os\n",
    "\n",
    "def get_weather_forecast():\n",
    "    url = \"http://api.openweathermap.org/data/2.5/weather?q=Bangalore&appid=66c1b6b7e7ece7e19bdbc982d0f23530\"\n",
    "\n",
    "    response = requests.get(url)\n",
    "    \n",
    "    if response.status_code == 200: \n",
    "        return response.json()\n",
    "    else:\n",
    "        response.raise_for_status()\n",
    "\n",
    "# Example usage\n",
    "city = \"banglore\"\n",
    "api_key = os.getenv(\"OPENWEATHER_API_KEY\")\n",
    "\n",
    "try:\n",
    "    forecast = get_weather_forecast()\n",
    "    print(forecast)\n",
    "except requests.exceptions.RequestException as e:\n",
    "    print(f\"Error fetching weather data: {e}\")"
   ]
  },
  {
   "cell_type": "code",
   "execution_count": null,
   "metadata": {},
   "outputs": [
    {
     "name": "stdout",
     "output_type": "stream",
     "text": [
      "66c1b6b7e7ece7e19bdbc982d0f23530\n",
      "{'coord': {'lon': 77.6033, 'lat': 12.9762}, 'weather': [{'id': 800, 'main': 'Clear', 'description': 'clear sky', 'icon': '01n'}], 'base': 'stations', 'main': {'temp': 293.16, 'feels_like': 292.7, 'temp_min': 292.05, 'temp_max': 293.43, 'pressure': 1014, 'humidity': 57, 'sea_level': 1014, 'grnd_level': 916}, 'visibility': 6000, 'wind': {'speed': 3.6, 'deg': 100}, 'clouds': {'all': 7}, 'dt': 1737909438, 'sys': {'type': 1, 'id': 9205, 'country': 'IN', 'sunrise': 1737854176, 'sunset': 1737895660}, 'timezone': 19800, 'id': 1277333, 'name': 'Bengaluru', 'cod': 200}\n"
     ]
    }
   ],
   "source": [
    "#working code\n",
    "\n",
    "import requests\n",
    "import os\n",
    "\n",
    "def get_weather_forecast(city, api_key):\n",
    "    url = f\"http://api.openweathermap.org/data/2.5/weather?q={city}&appid={api_key}\"\n",
    "\n",
    "    response = requests.get(url)\n",
    "    \n",
    "    if response.status_code == 200: \n",
    "        return response.json()\n",
    "    else:\n",
    "        response.raise_for_status()\n",
    "\n",
    "# Example usage\n",
    "city = \"Bangalore\"\n",
    "api_key = os.getenv(\"OPENWEATHER_API_KEY\")\n",
    "forecast = get_weather_forecast(city=city, api_key=api_key)"
   ]
  },
  {
   "cell_type": "code",
   "execution_count": 50,
   "metadata": {},
   "outputs": [
    {
     "name": "stdout",
     "output_type": "stream",
     "text": [
      "Temperature: 20.01°C, Weather Condition: Sunny\n"
     ]
    }
   ],
   "source": [
    "def get_weather_info(data):\n",
    "    \"\"\"\n",
    "    Extract temperature and weather condition from the weather data.\n",
    "\n",
    "    Args:\n",
    "        data (dict): Weather data in JSON-like format.\n",
    "\n",
    "    Returns:\n",
    "        tuple: Temperature in Celsius and weather condition.\n",
    "    \"\"\"\n",
    "    # Extract temperature in Kelvin and convert to Celsius\n",
    "    temperature_kelvin = data['main']['temp']\n",
    "    temperature_celsius = temperature_kelvin - 273.15\n",
    "\n",
    "    # Map weather condition codes to conditions\n",
    "    weather_mapping = {\n",
    "        \"Clear\": \"Sunny\",\n",
    "        \"Thunderstorm\": \"Stormy\",\n",
    "        \"Dust\": \"Sandstorms\",\n",
    "        \"Haze\": \"Sandstorms\",\n",
    "        \"Clouds\": \"Cloudy\",\n",
    "        \"Mist\": \"Fog\",\n",
    "        \"Fog\": \"Fog\",\n",
    "        \"Smoke\": \"Fog\",\n",
    "        \"Drizzle\": \"Cloudy\",\n",
    "        \"Rain\": \"Cloudy\",\n",
    "        \"Squall\": \"Windy\",\n",
    "        \"Tornado\": \"Windy\",\n",
    "        \"Ash\": \"Sandstorms\",\n",
    "        \"Sand\": \"Sandstorms\",\n",
    "    }\n",
    "\n",
    "    # Extract main weather description\n",
    "    weather_main = data['weather'][0]['main']\n",
    "\n",
    "    # Get mapped condition or fallback to default\n",
    "    weather_condition = weather_mapping.get(weather_main, weather_main)\n",
    "\n",
    "    return temperature_celsius, weather_condition\n",
    "\n",
    "# Example usage\n",
    "data = {\n",
    "    'coord': {'lon': 77.6033, 'lat': 12.9762},\n",
    "    'weather': [{'id': 800, 'main': 'Clear', 'description': 'clear sky', 'icon': '01n'}],\n",
    "    'base': 'stations',\n",
    "    'main': {'temp': 293.16, 'feels_like': 292.7, 'temp_min': 292.05, 'temp_max': 293.43, 'pressure': 1014, 'humidity': 57, 'sea_level': 1014, 'grnd_level': 916},\n",
    "    'visibility': 6000,\n",
    "    'wind': {'speed': 3.6, 'deg': 100},\n",
    "    'clouds': {'all': 7},\n",
    "    'dt': 1737909438,\n",
    "    'sys': {'type': 1, 'id': 9205, 'country': 'IN', 'sunrise': 1737854176, 'sunset': 1737895660},\n",
    "    'timezone': 19800,\n",
    "    'id': 1277333,\n",
    "    'name': 'Bengaluru',\n",
    "    'cod': 200\n",
    "}\n",
    "\n",
    "# Fetch and print results\n",
    "temp, condition = get_weather_info(data)\n",
    "print(f\"Temperature: {temp:.2f}°C, Weather Condition: {condition}\")\n"
   ]
  },
  {
   "cell_type": "code",
   "execution_count": 4,
   "metadata": {},
   "outputs": [
    {
     "name": "stdout",
     "output_type": "stream",
     "text": [
      "[{'annotations': {'DMS': {'lat': \"42° 29' 26.34000'' N\", 'lng': \"71° 16' 34.21200'' W\"}, 'FIPS': {'county': '25017', 'state': '25'}, 'MGRS': '19TCH1294306765', 'Maidenhead': 'FN42il67us', 'Mercator': {'x': -7934426.95, 'y': 5205891.749}, 'OSM': {'note_url': 'https://www.openstreetmap.org/note/new#map=17/42.49065/-71.27617&layers=N', 'url': 'https://www.openstreetmap.org/?mlat=42.49065&mlon=-71.27617#map=17/42.49065/-71.27617'}, 'UN_M49': {'regions': {'AMERICAS': '019', 'NORTHERN_AMERICA': '021', 'US': '840', 'WORLD': '001'}, 'statistical_groupings': ['MEDC']}, 'callingcode': 1, 'currency': {'alternate_symbols': ['US$'], 'decimal_mark': '.', 'disambiguate_symbol': 'US$', 'html_entity': '$', 'iso_code': 'USD', 'iso_numeric': '840', 'name': 'United States Dollar', 'smallest_denomination': 1, 'subunit': 'Cent', 'subunit_to_unit': 100, 'symbol': '$', 'symbol_first': 1, 'thousands_separator': ','}, 'flag': '🇺🇸', 'geohash': 'drt3dp4mbz784nh955s7', 'qibla': 60.28, 'roadinfo': {'drive_on': 'right', 'speed_in': 'mph'}, 'sun': {'rise': {'apparent': 1737893100, 'astronomical': 1737887280, 'civil': 1737891300, 'nautical': 1737889260}, 'set': {'apparent': 1737928260, 'astronomical': 1737934080, 'civil': 1737930060, 'nautical': 1737932100}}, 'timezone': {'name': 'America/New_York', 'now_in_dst': 0, 'offset_sec': -18000, 'offset_string': '-0500', 'short_name': 'EST'}, 'what3words': {'words': 'translated.contexts.entertain'}}, 'bounds': {'northeast': {'lat': 42.5223312, 'lng': -71.2410507}, 'southwest': {'lat': 42.4494324, 'lng': -71.3446808}}, 'components': {'ISO_3166-1_alpha-2': 'US', 'ISO_3166-1_alpha-3': 'USA', 'ISO_3166-2': ['US-MA'], '_category': 'place', '_normalized_city': 'Bedford', '_type': 'city', 'continent': 'North America', 'country': 'United States of America', 'country_code': 'us', 'county': 'Middlesex County', 'state': 'Massachusetts', 'state_code': 'MA', 'town': 'Bedford'}, 'confidence': 7, 'formatted': 'Bedford, Massachusetts, United States of America', 'geometry': {'lat': 42.49065, 'lng': -71.27617}}]\n",
      "City: Bedford, Latitude: 42.49065, Longitude: -71.27617\n"
     ]
    }
   ],
   "source": [
    "\n",
    "from opencage.geocoder import OpenCageGeocode\n",
    "\n",
    "key = os.getenv(\"OPENCAGE_API_KEY\")\n",
    "geocoder = OpenCageGeocode(key)\n",
    "\n",
    "def get_precise_location_opencage(address):\n",
    "    result = geocoder.geocode(address)\n",
    "    print(result)\n",
    "    if result:\n",
    "        city = result[0]['components']['_normalized_city']\n",
    "        lat = result[0]['geometry']['lat']\n",
    "        lng = result[0]['geometry']['lng']\n",
    "        print(f\"City: {city}, Latitude: {lat}, Longitude: {lng}\")\n",
    "        return lat, lng\n",
    "    else:\n",
    "        print(\"Address not found\")\n",
    "        return None, None\n",
    "\n",
    "# Example usage\n",
    "address = \"6th Cross Road S.T. Bed Extension, Cauvery Colony, S.T. Bed, 1st Block Koramangala, Koramangala, Bengaluru, Karnataka 560034\"\n",
    "latitude, longitude = get_precise_location_opencage(address)"
   ]
  },
  {
   "cell_type": "code",
   "execution_count": 4,
   "metadata": {},
   "outputs": [
    {
     "name": "stdout",
     "output_type": "stream",
     "text": [
      "Connected to the database!\n",
      "Total rows in raw_data: 0\n",
      "Database connection closed.\n"
     ]
    }
   ],
   "source": [
    "import mysql.connector\n",
    "\n",
    "# Database connection details\n",
    "db_config = {\n",
    "    \"host\": os.getenv(\"MYSQL_HOST\"),\n",
    "    \"user\": os.getenv(\"MYSQL_USER\"),\n",
    "    \"password\": os.getenv(\"MYSQL_PASSWORD\"),\n",
    "    \"database\": os.getenv(\"MYSQL_DATABASE\"),\n",
    "}\n",
    "\n",
    "try:\n",
    "    # Establish connection to MySQL\n",
    "    connection = mysql.connector.connect(**db_config)\n",
    "    print(\"Connected to the database!\")\n",
    "\n",
    "    # Create a cursor object to interact with the database\n",
    "    cursor = connection.cursor()\n",
    "\n",
    "    # Query the `raw_data` table (example: count rows)\n",
    "    query = \"SELECT COUNT(*) AS total_rows FROM raw_data\"\n",
    "    cursor.execute(query)\n",
    "\n",
    "    # Fetch and print the result\n",
    "    result = cursor.fetchone()\n",
    "    print(f\"Total rows in raw_data: {result[0]}\")\n",
    "\n",
    "except mysql.connector.Error as e:\n",
    "    print(f\"Error connecting to MySQL: {e}\")\n",
    "\n",
    "finally:\n",
    "    # Close the connection\n",
    "    if connection.is_connected():\n",
    "        cursor.close()\n",
    "        connection.close()\n",
    "        print(\"Database connection closed.\")\n"
   ]
  },
  {
   "cell_type": "code",
   "execution_count": null,
   "metadata": {},
   "outputs": [],
   "source": []
  }
 ],
 "metadata": {
  "kernelspec": {
   "display_name": ".venv",
   "language": "python",
   "name": "python3"
  },
  "language_info": {
   "codemirror_mode": {
    "name": "ipython",
    "version": 3
   },
   "file_extension": ".py",
   "mimetype": "text/x-python",
   "name": "python",
   "nbconvert_exporter": "python",
   "pygments_lexer": "ipython3",
   "version": "3.11.11"
  }
 },
 "nbformat": 4,
 "nbformat_minor": 2
}
