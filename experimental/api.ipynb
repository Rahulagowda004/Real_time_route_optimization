{
 "cells": [
  {
   "cell_type": "code",
   "execution_count": 2,
   "metadata": {},
   "outputs": [
    {
     "data": {
      "text/plain": [
       "True"
      ]
     },
     "execution_count": 2,
     "metadata": {},
     "output_type": "execute_result"
    }
   ],
   "source": [
    "import os\n",
    "from dotenv import load_dotenv\n",
    "\n",
    "load_dotenv()"
   ]
  },
  {
   "cell_type": "code",
   "execution_count": null,
   "metadata": {},
   "outputs": [
    {
     "name": "stdout",
     "output_type": "stream",
     "text": [
      "Traffic Index : 1.1562340966921119\n"
     ]
    }
   ],
   "source": [
    "import requests\n",
    "import pandas as pd\n",
    "\n",
    "def get_traffic_index(api_key, location):\n",
    "    url = \"https://api.tomtom.com/traffic/services/4/flowSegmentData/absolute/10/json\"\n",
    "    params = {\n",
    "        'key': api_key,\n",
    "        'point': location\n",
    "    }\n",
    "    \n",
    "    response = requests.get(url, params=params)\n",
    "    \n",
    "    if response.status_code == 200:\n",
    "        data = response.json()\n",
    "        try:\n",
    "            flow_data = data['flowSegmentData']\n",
    "            current_travel_time = flow_data['currentTravelTime']\n",
    "            free_flow_travel_time = flow_data['freeFlowTravelTime']\n",
    "            \n",
    "            traffic_index = current_travel_time / free_flow_travel_time\n",
    "            return traffic_index\n",
    "        except KeyError:\n",
    "            print(\"KeyError: Required data missing in response.\")\n",
    "            return None\n",
    "    else:\n",
    "        print(f\"Error: {response.status_code}, {response.text}\")\n",
    "        return None\n",
    "\n",
    "api_key = os.getenv(\"TOMTOM_API_KEY\") \n",
    "location = '12.913041,77.683237'\n",
    "\n",
    "traffic_index = get_traffic_index(api_key, location)\n",
    "\n",
    "if traffic_index:\n",
    "    print(f\"Traffic Index : {traffic_index}\")"
   ]
  },
  {
   "cell_type": "code",
   "execution_count": 4,
   "metadata": {},
   "outputs": [
    {
     "name": "stdout",
     "output_type": "stream",
     "text": [
      "Traffic Index : 1.1211195928753181\n"
     ]
    }
   ],
   "source": [
    "import requests\n",
    "import pandas as pd\n",
    "\n",
    "def get_traffic_index(api_key, latitude, longitude):\n",
    "    url = \"https://api.tomtom.com/traffic/services/4/flowSegmentData/absolute/10/json\"\n",
    "    params = {\n",
    "        'key': api_key,\n",
    "        'point': f\"{latitude},{longitude}\"\n",
    "    }\n",
    "    \n",
    "    response = requests.get(url, params=params)\n",
    "    \n",
    "    if response.status_code == 200:\n",
    "        data = response.json()\n",
    "        try:\n",
    "            flow_data = data['flowSegmentData']\n",
    "            current_travel_time = flow_data['currentTravelTime']\n",
    "            free_flow_travel_time = flow_data['freeFlowTravelTime']\n",
    "            \n",
    "            traffic_index = current_travel_time / free_flow_travel_time\n",
    "            return traffic_index\n",
    "        except KeyError:\n",
    "            print(\"KeyError: Required data missing in response.\")\n",
    "            return None\n",
    "    else:\n",
    "        print(f\"Error: {response.status_code}, {response.text}\")\n",
    "        return None\n",
    "\n",
    "api_key = os.getenv(\"TOMTOM_API_KEY\") \n",
    "latitude, longitude = 12.913041,77.683237\n",
    "\n",
    "traffic_index = get_traffic_index(api_key, latitude, longitude)\n",
    "\n",
    "if traffic_index:\n",
    "    print(f\"Traffic Index : {traffic_index}\")"
   ]
  },
  {
   "cell_type": "code",
   "execution_count": 20,
   "metadata": {},
   "outputs": [
    {
     "name": "stdout",
     "output_type": "stream",
     "text": [
      "Traffic Condition : Medium \n"
     ]
    }
   ],
   "source": [
    "def get_traffic_condition(traffic_index):\n",
    "    if traffic_index <= 1.0:\n",
    "        return \"Low \"\n",
    "    elif 1.1 <= traffic_index <= 2.0:\n",
    "        return \"Medium \"\n",
    "    elif 2.1 <= traffic_index <= 3.0:\n",
    "        return \"High \"\n",
    "    else:  # traffic_index > 3.0\n",
    "        return \"Jam \"\n",
    "    \n",
    "traffic_condition = get_traffic_condition(traffic_index)\n",
    "print(f\"Traffic Condition : {traffic_condition}\")"
   ]
  },
  {
   "cell_type": "code",
   "execution_count": 2,
   "metadata": {},
   "outputs": [
    {
     "name": "stdout",
     "output_type": "stream",
     "text": [
      "Error fetching weather data: 401 Client Error: Unauthorized for url: https://api.openweathermap.org/data/2.5/forecast/daily?lat=12.913041&lon=77.683237&cnt=7&appid=66c1b6b7e7ece7e19bdbc982d0f23530&mode=json&units=metric&lang=en\n"
     ]
    }
   ],
   "source": [
    "import requests\n",
    "\n",
    "def get_weather_forecast(lat, lon, api_key, cnt=7, mode='json', units='metric', lang='en'):\n",
    "    url = \"https://api.openweathermap.org/data/2.5/forecast/daily\"\n",
    "    params = {\n",
    "        'lat': lat,\n",
    "        'lon': lon,\n",
    "        'cnt': cnt,\n",
    "        'appid': api_key,\n",
    "        'mode': mode,\n",
    "        'units': units,\n",
    "        'lang': lang\n",
    "    }\n",
    "    \n",
    "    response = requests.get(url, params=params)\n",
    "    \n",
    "    if response.status_code == 200:\n",
    "        return response.json()\n",
    "    else:\n",
    "        response.raise_for_status()\n",
    "\n",
    "# Example usage\n",
    "lat = 12.913041\n",
    "lon = 77.683237\n",
    "api_key = os.getenv(\"OPENWEATHER_API_KEY\")\n",
    "\n",
    "try:\n",
    "    forecast = get_weather_forecast(lat, lon, api_key)\n",
    "    print(forecast)\n",
    "except requests.exceptions.RequestException as e:\n",
    "    print(f\"Error fetching weather data: {e}\")"
   ]
  },
  {
   "cell_type": "code",
   "execution_count": 1,
   "metadata": {},
   "outputs": [],
   "source": [
    "from geopy.geocoders import Nominatim"
   ]
  },
  {
   "cell_type": "code",
   "execution_count": 2,
   "metadata": {},
   "outputs": [],
   "source": [
    "geolocator = Nominatim(user_agent=\"delivery_app\")"
   ]
  },
  {
   "cell_type": "code",
   "execution_count": 6,
   "metadata": {},
   "outputs": [],
   "source": [
    "pickup_location = geolocator.geocode(\"14, Patel Narayana Reddy Layout, 80 Feet Rd, 6th Block, Ejipura, Bengaluru, Karnataka,india 560095\")"
   ]
  },
  {
   "cell_type": "code",
   "execution_count": null,
   "metadata": {},
   "outputs": [],
   "source": [
    "print(pickup_location)"
   ]
  },
  {
   "cell_type": "code",
   "execution_count": 13,
   "metadata": {},
   "outputs": [
    {
     "name": "stdout",
     "output_type": "stream",
     "text": [
      "Latitude: 12.98815675, Longitude: 77.62260003796\n"
     ]
    }
   ],
   "source": [
    "from geopy.geocoders import Nominatim\n",
    "\n",
    "def get_lat_long(address):\n",
    "    # Initialize Nominatim API\n",
    "    geolocator = Nominatim(user_agent=\"my_geocoding_app_rahul\")\n",
    "\n",
    "    # Get location\n",
    "    location = geolocator.geocode(address)\n",
    "    \n",
    "    # Check if location is found\n",
    "    if location:\n",
    "        return location.latitude, location.longitude\n",
    "    else:\n",
    "        return None, None  # Return None if address is not found\n",
    "\n",
    "address = \"Bengaluru, Karnataka, India\"\n",
    "\n",
    "latitude, longitude = get_lat_long(address)\n",
    "\n",
    "if latitude is None or longitude is None:\n",
    "    print(\"Address not found\")\n",
    "else:\n",
    "    print(f\"Latitude: {latitude}, Longitude: {longitude}\")\n"
   ]
  },
  {
   "cell_type": "code",
   "execution_count": null,
   "metadata": {},
   "outputs": [
    {
     "name": "stdout",
     "output_type": "stream",
     "text": [
      "Latitude: 12.97194, Longitude: 77.59369\n"
     ]
    }
   ],
   "source": [
    "from opencage.geocoder import OpenCageGeocode\n",
    "\n",
    "key = '02040a72cde349c7a27d5aed2bd42e52'\n",
    "geocoder = OpenCageGeocode(key)\n",
    "\n",
    "def get_precise_location_opencage(address):\n",
    "    result = geocoder.geocode(address)\n",
    "    \n",
    "    if result:\n",
    "        lat = result[0]['geometry']['lat']\n",
    "        lng = result[0]['geometry']['lng']\n",
    "        print(f\"Latitude: {lat}, Longitude: {lng}\")\n",
    "        return lat, lng\n",
    "    else:\n",
    "        print(\"Address not found\")\n",
    "        return None, None\n",
    "\n",
    "# Example usage\n",
    "address = \"14, Patel Narayana Reddy Layout, 80 Feet Rd, 6th Block, Ejipura, Bengaluru, Karnataka, India\"\n",
    "latitude, longitude = get_precise_location_opencage(address)"
   ]
  },
  {
   "cell_type": "code",
   "execution_count": null,
   "metadata": {},
   "outputs": [],
   "source": []
  }
 ],
 "metadata": {
  "kernelspec": {
   "display_name": ".venv",
   "language": "python",
   "name": "python3"
  },
  "language_info": {
   "codemirror_mode": {
    "name": "ipython",
    "version": 3
   },
   "file_extension": ".py",
   "mimetype": "text/x-python",
   "name": "python",
   "nbconvert_exporter": "python",
   "pygments_lexer": "ipython3",
   "version": "3.11.11"
  }
 },
 "nbformat": 4,
 "nbformat_minor": 2
}
