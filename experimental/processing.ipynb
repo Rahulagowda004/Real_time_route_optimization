{
 "cells": [
  {
   "cell_type": "code",
   "execution_count": 8,
   "metadata": {},
   "outputs": [],
   "source": [
    "import pandas as pd"
   ]
  },
  {
   "cell_type": "code",
   "execution_count": 9,
   "metadata": {},
   "outputs": [],
   "source": [
    "df = pd.read_csv(\"dataset.csv\")"
   ]
  },
  {
   "cell_type": "code",
   "execution_count": 10,
   "metadata": {},
   "outputs": [],
   "source": [
    "arr = df[\"Order_Date\"].unique()"
   ]
  },
  {
   "cell_type": "code",
   "execution_count": 11,
   "metadata": {},
   "outputs": [
    {
     "data": {
      "text/plain": [
       "array(['High ', 'Jam ', 'Low ', 'Medium ', nan], dtype=object)"
      ]
     },
     "execution_count": 11,
     "metadata": {},
     "output_type": "execute_result"
    }
   ],
   "source": [
    "df[\"Road_traffic_density\"].unique()"
   ]
  },
  {
   "cell_type": "code",
   "execution_count": 12,
   "metadata": {},
   "outputs": [
    {
     "data": {
      "text/plain": [
       "44"
      ]
     },
     "execution_count": 12,
     "metadata": {},
     "output_type": "execute_result"
    }
   ],
   "source": [
    "len(arr)"
   ]
  },
  {
   "cell_type": "code",
   "execution_count": 13,
   "metadata": {},
   "outputs": [],
   "source": [
    "arr = df[\"Time_Orderd\"].unique()"
   ]
  },
  {
   "cell_type": "code",
   "execution_count": 14,
   "metadata": {},
   "outputs": [
    {
     "data": {
      "text/plain": [
       "177"
      ]
     },
     "execution_count": 14,
     "metadata": {},
     "output_type": "execute_result"
    }
   ],
   "source": [
    "len(arr)"
   ]
  },
  {
   "cell_type": "code",
   "execution_count": 15,
   "metadata": {},
   "outputs": [],
   "source": [
    "# Mapping weather conditions to base temperatures\n",
    "WEATHER_TEMP_MAP = {\n",
    "    \"Sunny\": 30.0,\n",
    "    \"Stormy\": 22.0,\n",
    "    \"Sandstorms\": 35.0,\n",
    "    \"Cloudy\": 25.0,\n",
    "    \"Fog\": 18.0,\n",
    "    \"Windy\": 20.0,\n",
    "}\n",
    "\n",
    "# Adjustments for road traffic density\n",
    "TRAFFIC_TEMP_ADJUSTMENT = {\n",
    "    \"High\": -1.0,\n",
    "    \"Medium\": 0.0,\n",
    "    \"Low\": 1.0,\n",
    "    \"Jam\": -2.0,\n",
    "}\n",
    "\n",
    "# Function to calculate temperature with robust handling\n",
    "def calculate_temperature(row):\n",
    "    # Convert Weatherconditions and Road_traffic_density to strings and strip spaces\n",
    "    weather = str(row[\"Weatherconditions\"]).strip()\n",
    "    traffic = str(row[\"Road_traffic_density\"]).strip()\n",
    "    \n",
    "    # Get base temperature and traffic adjustment\n",
    "    base_temp = WEATHER_TEMP_MAP.get(weather, 25.0)  # Default to 25.0 if weather condition is not found\n",
    "    traffic_adjustment = TRAFFIC_TEMP_ADJUSTMENT.get(traffic, 0.0)  # Default to 0.0 if traffic density is not found\n",
    "    return base_temp + traffic_adjustment\n",
    "\n",
    "# Apply the function to the DataFrame\n",
    "df[\"Temperature\"] = df.apply(calculate_temperature, axis=1)"
   ]
  },
  {
   "cell_type": "code",
   "execution_count": 19,
   "metadata": {},
   "outputs": [],
   "source": [
    "# Function to calculate traffic index with safe handling of vehicle speed and condition\n",
    "def calculate_traffic_index(row):\n",
    "    # Convert Road Traffic Density and Vehicle Condition to string and strip spaces\n",
    "    traffic_density = str(row[\"Road_traffic_density\"]).strip()\n",
    "    vehicle_condition = row[\"Vehicle_condition\"]\n",
    "    \n",
    "    # Get traffic density weight\n",
    "    D = TRAFFIC_DENSITY_WEIGHT.get(traffic_density, 2)  # Default to Medium = 2\n",
    "    \n",
    "    # Time taken (minutes)\n",
    "    T = row[\"Time_taken\"]\n",
    "    \n",
    "    # Vehicle speed (use default if missing or zero)\n",
    "    V = row.get(\"Vehicle_Speed\", 30)  # Default speed = 30 km/h if not provided\n",
    "    if V == 0:\n",
    "        V = 30  # Default to 30 km/h if speed is zero\n",
    "    \n",
    "    # Vehicle condition weight (1=Poor, 2=Fair, 3=Good)\n",
    "    if vehicle_condition == 0:\n",
    "        vehicle_condition = 2  # Default to Fair if condition is zero\n",
    "    \n",
    "    # Calculate traffic index safely\n",
    "    TI = (D * T) / (V * vehicle_condition) if V > 0 and vehicle_condition > 0 else None  # Avoid division by zero\n",
    "    \n",
    "    return TI\n",
    "\n",
    "# Apply the function to your DataFrame\n",
    "df[\"Traffic_Index\"] = df.apply(calculate_traffic_index, axis=1)\n"
   ]
  },
  {
   "cell_type": "code",
   "execution_count": 21,
   "metadata": {},
   "outputs": [],
   "source": [
    "df.to_csv(\"dataset.csv\", index=False)"
   ]
  },
  {
   "cell_type": "code",
   "execution_count": 5,
   "metadata": {},
   "outputs": [
    {
     "name": "stdout",
     "output_type": "stream",
     "text": [
      "Traffic Index: 1.275826972010178\n",
      "    frc  currentSpeed  freeFlowSpeed  currentTravelTime  freeFlowTravelTime  \\\n",
      "0  FRC3            29             37               2507                1965   \n",
      "\n",
      "   confidence  roadClosure                                        coordinates  \\\n",
      "0           1        False  {'coordinate': [{'latitude': 12.92045698397870...   \n",
      "\n",
      "                       @version  \n",
      "0  traffic-service-flow 1.0.125  \n",
      "      latitude  longitude\n",
      "0    12.920457  77.665612\n",
      "1    12.920397  77.665763\n",
      "2    12.920327  77.665946\n",
      "3    12.920268  77.666082\n",
      "4    12.920224  77.666197\n",
      "..         ...        ...\n",
      "773  12.961184  77.747610\n",
      "774  12.961202  77.747617\n",
      "775  12.961216  77.747618\n",
      "776  12.961282  77.747630\n",
      "777  12.961337  77.747630\n",
      "\n",
      "[778 rows x 2 columns]\n"
     ]
    }
   ],
   "source": [
    "import requests\n",
    "import pandas as pd\n",
    "\n",
    "def get_traffic_index(api_key, location):\n",
    "    url = \"https://api.tomtom.com/traffic/services/4/flowSegmentData/absolute/10/json\"\n",
    "    params = {\n",
    "        'key': api_key,\n",
    "        'point': location\n",
    "    }\n",
    "    \n",
    "    response = requests.get(url, params=params)\n",
    "    \n",
    "    if response.status_code == 200:\n",
    "        data = response.json()\n",
    "        return data\n",
    "    else:\n",
    "        print(f\"Error: {response.status_code}, {response.text}\")\n",
    "        return None\n",
    "\n",
    "api_key = 'rGT85lmN9pMxHZFbcsYO3zFpGf2vcCKc'\n",
    "location = '12.913041,77.683237'\n",
    "\n",
    "traffic_data = get_traffic_index(api_key, location)\n",
    "\n",
    "if traffic_data:\n",
    "    flow_data = traffic_data['flowSegmentData']\n",
    "    current_travel_time = flow_data['currentTravelTime']\n",
    "    free_flow_travel_time = flow_data['freeFlowTravelTime']\n",
    "    \n",
    "    # Calculate traffic index\n",
    "    traffic_index = current_travel_time / free_flow_travel_time"
   ]
  },
  {
   "cell_type": "code",
   "execution_count": 7,
   "metadata": {},
   "outputs": [
    {
     "data": {
      "text/plain": [
       "1.275826972010178"
      ]
     },
     "execution_count": 7,
     "metadata": {},
     "output_type": "execute_result"
    }
   ],
   "source": [
    "traffic_index"
   ]
  },
  {
   "cell_type": "code",
   "execution_count": null,
   "metadata": {},
   "outputs": [],
   "source": []
  }
 ],
 "metadata": {
  "kernelspec": {
   "display_name": ".venv",
   "language": "python",
   "name": "python3"
  },
  "language_info": {
   "codemirror_mode": {
    "name": "ipython",
    "version": 3
   },
   "file_extension": ".py",
   "mimetype": "text/x-python",
   "name": "python",
   "nbconvert_exporter": "python",
   "pygments_lexer": "ipython3",
   "version": "3.11.11"
  }
 },
 "nbformat": 4,
 "nbformat_minor": 2
}
