{
 "cells": [
  {
   "cell_type": "code",
   "execution_count": 10,
   "metadata": {},
   "outputs": [],
   "source": [
    "import mysql.connector\n",
    "import os\n",
    "\n",
    "def get_db_connection():\n",
    "\n",
    "    return mysql.connector.connect(\n",
    "        host=os.getenv(\"MYSQL_HOST\"),\n",
    "        user=os.getenv(\"MYSQL_USER\"),\n",
    "        password=os.getenv(\"MYSQL_PASSWORD\"),\n",
    "        database=os.getenv(\"MYSQL_DATABASE\")\n",
    "    )\n",
    "\n",
    "def data_into_db(data):\n",
    "\n",
    "    connection = None\n",
    "    try:\n",
    "        # Establish database connection\n",
    "        connection = get_db_connection()\n",
    "        cursor = connection.cursor()\n",
    "\n",
    "        insert_query = \"\"\"\n",
    "        INSERT INTO raw_data (\n",
    "            ID, Delivery_person_Age, Delivery_person_Ratings, pickup_location_latitude, pickup_location_longitude,\n",
    "            Delivery_location_latitude, Delivery_location_longitude, Order_Date, Time_Orderd, \n",
    "            Weatherconditions, Road_traffic_density, Vehicle_condition, Type_of_vehicle, \n",
    "            multiple_deliveries, City, Temperature, Traffic_Index, Time_taken\n",
    "        ) VALUES (%s, %s, %s, %s, %s, %s, %s, %s, %s, %s, %s, %s, %s, %s, %s, %s, %s, %s)\n",
    "        \"\"\"\n",
    "\n",
    "        cursor.execute(insert_query, (\n",
    "            data['ID'], data['Delivery_person_Age'], data['Delivery_person_Ratings'], \n",
    "            data['translogi_latitude'], data['translogi_longitude'], data['Delivery_location_latitude'], \n",
    "            data['Delivery_location_longitude'], data['Order_Date'], data['Time_Orderd'], \n",
    "            data['Weatherconditions'], data['Road_traffic_density'], data['Vehicle_condition'], \n",
    "            data['Type_of_vehicle'], data['multiple_deliveries'], data['City'], \n",
    "            data['Temperature'], data['Traffic_Index'], data['Time_taken']\n",
    "        ))\n",
    "\n",
    "        connection.commit()\n",
    "        print(\"Record inserted successfully!\")\n",
    "\n",
    "    except mysql.connector.Error as e:\n",
    "        print(f\"Error inserting data into MySQL: {e}\")\n",
    "    finally:\n",
    "        if connection and connection.is_connected():\n",
    "            cursor.close()\n",
    "            connection.close()\n",
    "            print(\"Database connection closed.\")"
   ]
  },
  {
   "cell_type": "code",
   "execution_count": null,
   "metadata": {},
   "outputs": [
    {
     "name": "stdout",
     "output_type": "stream",
     "text": [
      "Error inserting data into MySQL: 1062 (23000): Duplicate entry '0x4607' for key 'raw_data.PRIMARY'\n",
      "Database connection closed.\n"
     ]
    }
   ],
   "source": [
    "# Sample data to insert\n",
    "data = {\n",
    "    \"ID\": \"0x4607\",\n",
    "    \"Delivery_person_Age\": 37.0,\n",
    "    \"Delivery_person_Ratings\": 4.9,\n",
    "    \"translogi_latitude\": 22.745049,\n",
    "    \"translogi_longitude\": 75.892471,\n",
    "    \"Delivery_location_latitude\": 22.765049,\n",
    "    \"Delivery_location_longitude\": 75.912471,\n",
    "    \"Order_Date\": \"2022-03-19\",\n",
    "    \"Time_Orderd\": \"11:30:00\",\n",
    "    \"Weatherconditions\": \"Sunny\",\n",
    "    \"Road_traffic_density\": \"High\",\n",
    "    \"Vehicle_condition\": 2,\n",
    "    \"Type_of_vehicle\": \"motorcycle\",\n",
    "    \"multiple_deliveries\": 0.0,\n",
    "    \"City\": \"Urban\",\n",
    "    \"Temperature\": 29.0,\n",
    "    \"Traffic_Index\": 1.2,\n",
    "    \"Time_taken\": 24\n",
    "}\n",
    "\n",
    "# Insert the data\n",
    "data_into_db(data)"
   ]
  },
  {
   "cell_type": "code",
   "execution_count": null,
   "metadata": {},
   "outputs": [],
   "source": []
  }
 ],
 "metadata": {
  "kernelspec": {
   "display_name": ".venv",
   "language": "python",
   "name": "python3"
  },
  "language_info": {
   "codemirror_mode": {
    "name": "ipython",
    "version": 3
   },
   "file_extension": ".py",
   "mimetype": "text/x-python",
   "name": "python",
   "nbconvert_exporter": "python",
   "pygments_lexer": "ipython3",
   "version": "3.11.11"
  }
 },
 "nbformat": 4,
 "nbformat_minor": 2
}
