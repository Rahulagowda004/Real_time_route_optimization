{
 "cells": [
  {
   "cell_type": "code",
   "execution_count": 1,
   "metadata": {},
   "outputs": [],
   "source": [
    "import mysql.connector\n",
    "import os\n",
    "\n",
    "def get_db_connection():\n",
    "\n",
    "    return mysql.connector.connect(\n",
    "        host=os.getenv(\"MYSQL_HOST\"),\n",
    "        user=os.getenv(\"MYSQL_USER\"),\n",
    "        password=os.getenv(\"MYSQL_PASSWORD\"),\n",
    "        database=os.getenv(\"MYSQL_DATABASE\")\n",
    "    )\n",
    "\n",
    "def data_into_db(data):\n",
    "\n",
    "    connection = None\n",
    "    try:\n",
    "        # Establish database connection\n",
    "        connection = get_db_connection()\n",
    "        cursor = connection.cursor()\n",
    "\n",
    "        insert_query = \"\"\"\n",
    "        INSERT INTO raw_data (\n",
    "            ID, Delivery_person_Age, Delivery_person_Ratings, pickup_location_latitude, pickup_location_longitude,\n",
    "            Delivery_location_latitude, Delivery_location_longitude, Order_Date, Time_Orderd, \n",
    "            Weatherconditions, Road_traffic_density, Vehicle_condition, Type_of_vehicle, \n",
    "            multiple_deliveries, City, Temperature, Traffic_Index, Time_taken\n",
    "        ) VALUES (%s, %s, %s, %s, %s, %s, %s, %s, %s, %s, %s, %s, %s, %s, %s, %s, %s, %s)\n",
    "        \"\"\"\n",
    "\n",
    "        cursor.execute(insert_query, (\n",
    "            data['ID'], data['Delivery_person_Age'], data['Delivery_person_Ratings'], \n",
    "            data['translogi_latitude'], data['translogi_longitude'], data['Delivery_location_latitude'], \n",
    "            data['Delivery_location_longitude'], data['Order_Date'], data['Time_Orderd'], \n",
    "            data['Weatherconditions'], data['Road_traffic_density'], data['Vehicle_condition'], \n",
    "            data['Type_of_vehicle'], data['multiple_deliveries'], data['City'], \n",
    "            data['Temperature'], data['Traffic_Index'], data['Time_taken']\n",
    "        ))\n",
    "\n",
    "        connection.commit()\n",
    "        print(\"Record inserted successfully!\")\n",
    "\n",
    "    except mysql.connector.Error as e:\n",
    "        print(f\"Error inserting data into MySQL: {e}\")\n",
    "    finally:\n",
    "        if connection and connection.is_connected():\n",
    "            cursor.close()\n",
    "            connection.close()\n",
    "            print(\"Database connection closed.\")"
   ]
  },
  {
   "cell_type": "code",
   "execution_count": 3,
   "metadata": {},
   "outputs": [
    {
     "name": "stdout",
     "output_type": "stream",
     "text": [
      "Record inserted successfully!\n",
      "Database connection closed.\n"
     ]
    }
   ],
   "source": [
    "# Sample data to insert\n",
    "data = {\n",
    "    \"ID\": \"61916\",\n",
    "    \"Delivery_person_Age\": 37.0,\n",
    "    \"Delivery_person_Ratings\": 4.9,\n",
    "    \"translogi_latitude\": 22.745049,\n",
    "    \"translogi_longitude\": 75.892471,\n",
    "    \"Delivery_location_latitude\": 22.765049,\n",
    "    \"Delivery_location_longitude\": 75.912471,\n",
    "    \"Order_Date\": \"2022-03-19\",\n",
    "    \"Time_Orderd\": \"11:30:00\",\n",
    "    \"Weatherconditions\": \"Sunny\",\n",
    "    \"Road_traffic_density\": \"High\",\n",
    "    \"Vehicle_condition\": 2,\n",
    "    \"Type_of_vehicle\": \"motorcycle\",\n",
    "    \"multiple_deliveries\": 0.0,\n",
    "    \"City\": \"Urban\",\n",
    "    \"Temperature\": 29.0,\n",
    "    \"Traffic_Index\": 1.2,\n",
    "    \"Time_taken\": 24\n",
    "}\n",
    "\n",
    "# Insert the data\n",
    "data_into_db(data)"
   ]
  },
  {
   "cell_type": "code",
   "execution_count": 1,
   "metadata": {},
   "outputs": [],
   "source": [
    "import mysql.connector\n",
    "import os\n",
    "\n",
    "def get_db_connection():\n",
    "\n",
    "    return mysql.connector.connect(\n",
    "        host=os.getenv(\"MYSQL_HOST\"),\n",
    "        user=os.getenv(\"MYSQL_USER\"),\n",
    "        password=os.getenv(\"MYSQL_PASSWORD\"),\n",
    "        database=os.getenv(\"MYSQL_DATABASE\")\n",
    "    )"
   ]
  },
  {
   "cell_type": "code",
   "execution_count": 5,
   "metadata": {},
   "outputs": [
    {
     "name": "stdout",
     "output_type": "stream",
     "text": [
      "Route data inserted successfully!\n"
     ]
    }
   ],
   "source": [
    "def routes_to_db(route_data):\n",
    "    try:\n",
    "        connection = get_db_connection()\n",
    "        cursor = connection.cursor()\n",
    "\n",
    "        # Convert instructions list to string\n",
    "        instructions_str = '\\n'.join(\n",
    "            f\"{i+1}. {instruction}\" \n",
    "            for i, instruction in enumerate(route_data['instructions'])\n",
    "        )\n",
    "\n",
    "        insert_query = \"\"\"\n",
    "        INSERT INTO optimized_routes (\n",
    "            pickup_lat, pickup_lng, delivery_lat, delivery_lng,\n",
    "            total_distance, instructions\n",
    "        ) VALUES (%s, %s, %s, %s, %s, %s)\n",
    "        \"\"\"\n",
    "\n",
    "        values = (\n",
    "            route_data['pickup_lat'],\n",
    "            route_data['pickup_lng'], \n",
    "            route_data['delivery_lat'],\n",
    "            route_data['delivery_lng'],\n",
    "            route_data['total_distance'],\n",
    "            instructions_str\n",
    "        )\n",
    "\n",
    "        cursor.execute(insert_query, values)\n",
    "        connection.commit()\n",
    "        print(\"Route data inserted successfully!\")\n",
    "\n",
    "    except mysql.connector.Error as e:\n",
    "        raise e\n",
    "    finally:\n",
    "        if 'connection' in locals() and connection.is_connected():\n",
    "            cursor.close()\n",
    "            connection.close()\n",
    "            \n",
    "test_route_data = {'pickup_lat': 12.954242231599048, 'pickup_lng': 77.58607487423697, 'delivery_lat': 13.007011276609017, 'delivery_lng': 77.59365422340476, 'total_distance': 9255.7, 'instructions': ['Head southeast on Lalbagh Fort Road', 'Enter Kengal Hanumanthaiah Circle and take the 3rd exit onto Lalbagh Fort Road', 'Exit the traffic circle onto Lalbagh Fort Road', 'Make a slight right onto JC Road', 'Turn right onto JC Road', 'Go straight onto Hudson Circle', 'Keep left onto Kempegowda Road', 'Turn right onto Palace Road', 'Turn right onto 8th Main Road', 'Turn left onto Millers Road', 'Make a slight left to stay on Millers Road', 'Continue slightly left onto Jayamahal Road', 'Turn right to stay on JC Nagar Main Road', 'You have arrived at your destination']}\n",
    "routes_to_db(test_route_data)"
   ]
  },
  {
   "cell_type": "code",
   "execution_count": null,
   "metadata": {},
   "outputs": [],
   "source": []
  }
 ],
 "metadata": {
  "kernelspec": {
   "display_name": "Python 3",
   "language": "python",
   "name": "python3"
  },
  "language_info": {
   "codemirror_mode": {
    "name": "ipython",
    "version": 3
   },
   "file_extension": ".py",
   "mimetype": "text/x-python",
   "name": "python",
   "nbconvert_exporter": "python",
   "pygments_lexer": "ipython3",
   "version": "3.11.0"
  }
 },
 "nbformat": 4,
 "nbformat_minor": 2
}
