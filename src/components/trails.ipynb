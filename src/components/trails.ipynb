{
 "cells": [
  {
   "cell_type": "code",
   "execution_count": 5,
   "metadata": {},
   "outputs": [],
   "source": [
    "import os\n",
    "os.chdir(\"../\")"
   ]
  },
  {
   "cell_type": "code",
   "execution_count": 6,
   "metadata": {},
   "outputs": [
    {
     "data": {
      "text/plain": [
       "'r:\\\\Real_time_route_optimization'"
      ]
     },
     "execution_count": 6,
     "metadata": {},
     "output_type": "execute_result"
    }
   ],
   "source": [
    "%pwd"
   ]
  },
  {
   "cell_type": "code",
   "execution_count": null,
   "metadata": {},
   "outputs": [],
   "source": [
    "import os\n",
    "import sys\n",
    "from src.utils.exception import CustomException\n",
    "from src.utils.logger import logging\n",
    "import pandas as pd\n",
    "\n",
    "from sklearn.model_selection import train_test_split\n",
    "from dataclasses import dataclass\n",
    "\n",
    "@dataclass\n",
    "class DataIngestionConfig:\n",
    "    train_data_path: str=os.path.join('artifacts',\"train.csv\")\n",
    "    test_data_path: str=os.path.join('artifacts',\"test.csv\")\n",
    "    raw_data_path: str=os.path.join('artifacts',\"data.csv\")\n",
    "\n",
    "class DataIngestion:\n",
    "    def __init__(self):\n",
    "        self.ingestion_config=DataIngestionConfig()\n",
    "\n",
    "    def initiate_data_ingestion(self):\n",
    "        logging.info(\"Entered the data ingestion method or component\")\n",
    "        try:\n",
    "            df=pd.read_csv('data/Dataset.csv')\n",
    "            logging.info('Read the dataset as dataframe')\n",
    "\n",
    "            os.makedirs(os.path.dirname(self.ingestion_config.train_data_path),exist_ok=True)\n",
    "\n",
    "            df.to_csv(self.ingestion_config.raw_data_path,index=False,header=True)\n",
    "\n",
    "            logging.info(\"Train test split initiated\")\n",
    "            train_set,test_set=train_test_split(df,test_size=0.2,random_state=42)\n",
    "\n",
    "            train_set.to_csv(self.ingestion_config.train_data_path,index=False,header=True)\n",
    "\n",
    "            test_set.to_csv(self.ingestion_config.test_data_path,index=False,header=True)\n",
    "\n",
    "            logging.info(\"Ingestion of the data iss completed\")\n",
    "\n",
    "            return(\n",
    "                self.ingestion_config.train_data_path,\n",
    "                self.ingestion_config.test_data_path\n",
    "\n",
    "            )\n",
    "        except Exception as e:\n",
    "            raise CustomException(e,sys)\n",
    "        \n",
    "if __name__==\"__main__\":\n",
    "    obj=DataIngestion()\n",
    "    train_data,test_data=obj.initiate_data_ingestion()"
   ]
  },
  {
   "cell_type": "code",
   "execution_count": null,
   "metadata": {},
   "outputs": [],
   "source": []
  }
 ],
 "metadata": {
  "kernelspec": {
   "display_name": ".venv",
   "language": "python",
   "name": "python3"
  },
  "language_info": {
   "codemirror_mode": {
    "name": "ipython",
    "version": 3
   },
   "file_extension": ".py",
   "mimetype": "text/x-python",
   "name": "python",
   "nbconvert_exporter": "python",
   "pygments_lexer": "ipython3",
   "version": "3.11.11"
  }
 },
 "nbformat": 4,
 "nbformat_minor": 2
}
