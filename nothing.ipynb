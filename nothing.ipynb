{
 "cells": [
  {
   "cell_type": "code",
   "execution_count": 14,
   "metadata": {},
   "outputs": [],
   "source": [
    "import os\n",
    "import pandas as pd\n",
    "preprocessor_path = os.path.join(\"artifacts/preprocessor\",\"preprocessor.pkl\")\n",
    "train_path = os.path.join(\"artifacts/Data\",\"train.csv\")\n",
    "test_path = os.path.join(\"artifacts/Data\",\"test.csv\")\n",
    "prediction_path = os.path.join(\"artifacts/prediction\",\"prediction.csv\")\n",
    "df_train = pd.read_csv(train_path)\n",
    "df_test = pd.read_csv(test_path)\n",
    "df_prediction = pd.read_csv(prediction_path)"
   ]
  },
  {
   "cell_type": "code",
   "execution_count": 4,
   "metadata": {},
   "outputs": [],
   "source": [
    "# main.py\n",
    "from sklearn.compose import ColumnTransformer\n",
    "from sklearn.pipeline import Pipeline\n",
    "from sklearn.impute import SimpleImputer\n",
    "from sklearn.preprocessing import OneHotEncoder, StandardScaler, RobustScaler, OrdinalEncoder\n",
    "from src.components.custom_transformer import FilterOutBigValuesTransformer\n",
    "import joblib\n",
    "\n",
    "# Define pipelines for different feature types\n",
    "mean_features = ['Delivery_person_Age', 'Delivery_person_Ratings', 'multiple_deliveries', 'Hour_order', 'Min_order']\n",
    "ohe_categories = ['Road_traffic_density', 'Type_of_vehicle']\n",
    "ordinal_categories = ['Road_traffic_density', 'Weatherconditions', 'Type_of_vehicle', 'City']\n",
    "robust_features = ['translogi_latitude', 'translogi_longitude', 'Delivery_location_latitude', 'Delivery_location_longitude']\n",
    "standardize_features = ['Temperature', 'Traffic_Index', 'Delivery_person_Age', 'Delivery_person_Ratings']\n",
    "\n",
    "mean_pipeline = Pipeline(steps=[\n",
    "    ('imputer', SimpleImputer(strategy='mean')),\n",
    "    ('scaler', StandardScaler())\n",
    "])\n",
    "\n",
    "cat_pipeline = Pipeline(steps=[\n",
    "    ('imputer', SimpleImputer(strategy='most_frequent')),\n",
    "    ('ohe', OneHotEncoder(handle_unknown='ignore'))\n",
    "])\n",
    "\n",
    "ordinal_pipeline = Pipeline(steps=[\n",
    "    ('imputer', SimpleImputer(strategy='most_frequent')),\n",
    "    ('ordinal', OrdinalEncoder()),\n",
    "    ('scaler', RobustScaler())\n",
    "])\n",
    "\n",
    "num_pipeline_standardize = Pipeline(steps=[\n",
    "    ('imputer', SimpleImputer(strategy='mean')),  \n",
    "    ('scaler', StandardScaler())  \n",
    "])\n",
    "\n",
    "num_pipeline_robust = Pipeline(steps=[\n",
    "    ('imputer', SimpleImputer(strategy='mean')),\n",
    "    ('scaler', RobustScaler())\n",
    "])\n",
    "\n",
    "preprocessor = ColumnTransformer(\n",
    "    transformers=[\n",
    "        ('num_mean', mean_pipeline, mean_features),\n",
    "        ('num_standardize', num_pipeline_standardize, standardize_features),\n",
    "        ('num_robust', num_pipeline_robust, robust_features),\n",
    "        ('cat', cat_pipeline, ohe_categories),\n",
    "        ('ordinal', ordinal_pipeline, ordinal_categories),\n",
    "    ])"
   ]
  },
  {
   "cell_type": "code",
   "execution_count": 8,
   "metadata": {},
   "outputs": [],
   "source": [
    "\n"
   ]
  },
  {
   "cell_type": "code",
   "execution_count": 9,
   "metadata": {},
   "outputs": [
    {
     "data": {
      "text/plain": [
       "array([[ 1.30184564,  0.50588378,  0.4534272 , ..., -0.66666667,\n",
       "         0.        ,  0.        ],\n",
       "       [-0.27832441, -1.32449319,  0.4534272 , ...,  0.33333333,\n",
       "         0.        ,  0.        ],\n",
       "       [-0.98062221, -0.10424187, -1.31608473, ...,  1.        ,\n",
       "         0.        ,  0.        ],\n",
       "       ...,\n",
       "       [ 1.65299455,  0.81094661, -1.31608473, ...,  1.        ,\n",
       "         0.        ,  0.        ],\n",
       "       [-0.80504776,  0.81094661,  0.4534272 , ...,  1.        ,\n",
       "         1.        ,  0.        ],\n",
       "       [ 0.24839894, -0.10424187,  0.4534272 , ...,  0.33333333,\n",
       "         0.        ,  0.        ]])"
      ]
     },
     "execution_count": 9,
     "metadata": {},
     "output_type": "execute_result"
    }
   ],
   "source": [
    "preprocessor.fit_transform(df)"
   ]
  },
  {
   "cell_type": "code",
   "execution_count": 10,
   "metadata": {},
   "outputs": [
    {
     "data": {
      "text/plain": [
       "['artifacts/preprocessor\\\\preprocessor.pkl']"
      ]
     },
     "execution_count": 10,
     "metadata": {},
     "output_type": "execute_result"
    }
   ],
   "source": [
    "joblib.dump(preprocessor, preprocessor_path)"
   ]
  },
  {
   "cell_type": "code",
   "execution_count": 15,
   "metadata": {},
   "outputs": [],
   "source": [
    "preprocessor = joblib.load(preprocessor_path)"
   ]
  },
  {
   "cell_type": "code",
   "execution_count": 26,
   "metadata": {},
   "outputs": [
    {
     "data": {
      "text/html": [
       "<div>\n",
       "<style scoped>\n",
       "    .dataframe tbody tr th:only-of-type {\n",
       "        vertical-align: middle;\n",
       "    }\n",
       "\n",
       "    .dataframe tbody tr th {\n",
       "        vertical-align: top;\n",
       "    }\n",
       "\n",
       "    .dataframe thead th {\n",
       "        text-align: right;\n",
       "    }\n",
       "</style>\n",
       "<table border=\"1\" class=\"dataframe\">\n",
       "  <thead>\n",
       "    <tr style=\"text-align: right;\">\n",
       "      <th></th>\n",
       "      <th>Delivery_person_Age</th>\n",
       "      <th>Delivery_person_Ratings</th>\n",
       "      <th>translogi_latitude</th>\n",
       "      <th>translogi_longitude</th>\n",
       "      <th>Delivery_location_latitude</th>\n",
       "      <th>Delivery_location_longitude</th>\n",
       "      <th>Weatherconditions</th>\n",
       "      <th>Road_traffic_density</th>\n",
       "      <th>Vehicle_condition</th>\n",
       "      <th>Type_of_vehicle</th>\n",
       "      <th>...</th>\n",
       "      <th>Time_taken</th>\n",
       "      <th>Order_day</th>\n",
       "      <th>Order_month</th>\n",
       "      <th>Order_year</th>\n",
       "      <th>Hour_order</th>\n",
       "      <th>Min_order</th>\n",
       "      <th>avg_delivery_time_area</th>\n",
       "      <th>traffic_weather_impact</th>\n",
       "      <th>vehicle_capacity_utilization</th>\n",
       "      <th>distance</th>\n",
       "    </tr>\n",
       "  </thead>\n",
       "  <tbody>\n",
       "    <tr>\n",
       "      <th>0</th>\n",
       "      <td>30.0</td>\n",
       "      <td>5.0</td>\n",
       "      <td>22.744648</td>\n",
       "      <td>75.894377</td>\n",
       "      <td>22.824648</td>\n",
       "      <td>75.974377</td>\n",
       "      <td>Fog</td>\n",
       "      <td>Medium</td>\n",
       "      <td>0</td>\n",
       "      <td>motorcycle</td>\n",
       "      <td>...</td>\n",
       "      <td>44</td>\n",
       "      <td>20</td>\n",
       "      <td>3</td>\n",
       "      <td>2022</td>\n",
       "      <td>18.0</td>\n",
       "      <td>20.0</td>\n",
       "      <td>27.315226</td>\n",
       "      <td>28.044816</td>\n",
       "      <td>0.0</td>\n",
       "      <td>12.081765</td>\n",
       "    </tr>\n",
       "  </tbody>\n",
       "</table>\n",
       "<p>1 rows × 24 columns</p>\n",
       "</div>"
      ],
      "text/plain": [
       "   Delivery_person_Age  Delivery_person_Ratings  translogi_latitude  \\\n",
       "0                 30.0                      5.0           22.744648   \n",
       "\n",
       "   translogi_longitude  Delivery_location_latitude  \\\n",
       "0            75.894377                   22.824648   \n",
       "\n",
       "   Delivery_location_longitude Weatherconditions Road_traffic_density  \\\n",
       "0                    75.974377               Fog              Medium    \n",
       "\n",
       "   Vehicle_condition Type_of_vehicle  ...  Time_taken Order_day  Order_month  \\\n",
       "0                  0     motorcycle   ...          44        20            3   \n",
       "\n",
       "   Order_year  Hour_order  Min_order  avg_delivery_time_area  \\\n",
       "0        2022        18.0       20.0               27.315226   \n",
       "\n",
       "   traffic_weather_impact  vehicle_capacity_utilization   distance  \n",
       "0               28.044816                           0.0  12.081765  \n",
       "\n",
       "[1 rows x 24 columns]"
      ]
     },
     "execution_count": 26,
     "metadata": {},
     "output_type": "execute_result"
    }
   ],
   "source": [
    "df = df_prediction\n",
    "df"
   ]
  },
  {
   "cell_type": "code",
   "execution_count": 19,
   "metadata": {},
   "outputs": [],
   "source": [
    "data = preprocessor.transform(df_prediction)"
   ]
  },
  {
   "cell_type": "code",
   "execution_count": 20,
   "metadata": {},
   "outputs": [
    {
     "data": {
      "text/plain": [
       "(1, 25)"
      ]
     },
     "execution_count": 20,
     "metadata": {},
     "output_type": "execute_result"
    }
   ],
   "source": [
    "data.shape"
   ]
  },
  {
   "cell_type": "code",
   "execution_count": null,
   "metadata": {},
   "outputs": [],
   "source": []
  }
 ],
 "metadata": {
  "kernelspec": {
   "display_name": ".venv",
   "language": "python",
   "name": "python3"
  },
  "language_info": {
   "codemirror_mode": {
    "name": "ipython",
    "version": 3
   },
   "file_extension": ".py",
   "mimetype": "text/x-python",
   "name": "python",
   "nbconvert_exporter": "python",
   "pygments_lexer": "ipython3",
   "version": "3.11.11"
  }
 },
 "nbformat": 4,
 "nbformat_minor": 2
}
